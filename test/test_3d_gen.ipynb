{
 "cells": [
  {
   "cell_type": "code",
   "execution_count": 180,
   "metadata": {},
   "outputs": [
    {
     "name": "stdout",
     "output_type": "stream",
     "text": [
      "/tmp/my_shp2.json\n"
     ]
    }
   ],
   "source": [
    "from shapely.geometry import mapping, Polygon\n",
    "import fiona\n",
    "\n",
    "# You can see a schema as column names and types of a table which holds all the data (see bellow)\n",
    "\n",
    "schema = {\n",
    "    'geometry': 'Polygon',\n",
    "    'properties': {'id': 'int'},\n",
    "}\n",
    "\n",
    "# Here are polygons which define our map\n",
    "\n",
    "class maison():\n",
    "    shape = None\n",
    "    shadow = None\n",
    "\n",
    "    def __init__(self,shape,shadow):\n",
    "        self.shape = shape #shape\n",
    "        self.shadow = shadow\n",
    "    \n",
    "    '''\n",
    "    write in a json file the shapes of house\n",
    "    '''\n",
    "    def export_json(self, filename):\n",
    "        with fiona.open(filename, 'w', 'GeoJSON', schema) as c:\n",
    "            c.write({\n",
    "                'geometry': mapping(self.shadow),\n",
    "                'properties': {'id': 1},\n",
    "            })\n",
    "            c.write({\n",
    "                'geometry': mapping(self.shape),\n",
    "                'properties': {'id': 2},\n",
    "            })\n",
    "        return filename\n",
    "\n",
    "poly2 = Polygon([(1, 1),(4,1), (4,4), (1,4)]) #shadow\n",
    "poly1 = Polygon([(1, 1.2),(3.9,1.2), (3.9,4), (1,4)]) #shape\n",
    "maison1 = maison(poly1,poly2)\n",
    "print(maison1.export_json(\"/tmp/my_shp2.json\"))"
   ]
  },
  {
   "cell_type": "code",
   "execution_count": 181,
   "metadata": {},
   "outputs": [
    {
     "name": "stdout",
     "output_type": "stream",
     "text": [
      "{\r\n",
      "\"type\": \"FeatureCollection\",\r\n",
      "\"features\": [\r\n",
      "{ \"type\": \"Feature\", \"properties\": { \"id\": 1 }, \"geometry\": { \"type\": \"Polygon\", \"coordinates\": [ [ [ 1.0, 1.0 ], [ 4.0, 1.0 ], [ 4.0, 4.0 ], [ 1.0, 4.0 ], [ 1.0, 1.0 ] ] ] } },\r\n",
      "{ \"type\": \"Feature\", \"properties\": { \"id\": 2 }, \"geometry\": { \"type\": \"Polygon\", \"coordinates\": [ [ [ 1.0, 1.2 ], [ 3.9, 1.2 ], [ 3.9, 4.0 ], [ 1.0, 4.0 ], [ 1.0, 1.2 ] ] ] } }\r\n",
      "]\r\n",
      "}\r\n"
     ]
    }
   ],
   "source": [
    "!cat /tmp/my_shp2.json"
   ]
  },
  {
   "cell_type": "code",
   "execution_count": 182,
   "metadata": {},
   "outputs": [
    {
     "data": {
      "text/plain": [
       "{'type': 'FeatureCollection',\n",
       " 'features': [{'type': 'Feature',\n",
       "   'properties': {'id': 1},\n",
       "   'geometry': {'type': 'Polygon',\n",
       "    'coordinates': [[[1.0, 1.0],\n",
       "      [4.0, 1.0],\n",
       "      [4.0, 4.0],\n",
       "      [1.0, 4.0],\n",
       "      [1.0, 1.0]]]}},\n",
       "  {'type': 'Feature',\n",
       "   'properties': {'id': 2},\n",
       "   'geometry': {'type': 'Polygon',\n",
       "    'coordinates': [[[1.0, 1.2],\n",
       "      [3.9, 1.2],\n",
       "      [3.9, 4.0],\n",
       "      [1.0, 4.0],\n",
       "      [1.0, 1.2]]]}}]}"
      ]
     },
     "execution_count": 182,
     "metadata": {},
     "output_type": "execute_result"
    }
   ],
   "source": [
    "import json\n",
    "\n",
    "with open('/tmp/my_shp2.json') as f:\n",
    "    data = json.load(f)\n",
    "    \n",
    "data"
   ]
  },
  {
   "cell_type": "code",
   "execution_count": 183,
   "metadata": {},
   "outputs": [
    {
     "data": {
      "text/plain": [
       "<AxesSubplot:>"
      ]
     },
     "execution_count": 183,
     "metadata": {},
     "output_type": "execute_result"
    },
    {
     "data": {
      "image/png": "[encoded data removed]",
      "text/plain": [
       "<Figure size 432x288 with 1 Axes>"
      ]
     },
     "metadata": {
      "needs_background": "light"
     },
     "output_type": "display_data"
    }
   ],
   "source": [
    "import geopandas as gpd\n",
    "\n",
    "shapes = gpd.read_file('/tmp/my_shp2.json')\n",
    "shapes.plot(column='id')   # arg column is used to define colors, cmap maps column values to colors\n",
    "\n"
   ]
  },
  {
   "cell_type": "code",
   "execution_count": null,
   "metadata": {},
   "outputs": [],
   "source": []
  }
 ],
 "metadata": {
  "kernelspec": {
   "display_name": "Python 3",
   "language": "python",
   "name": "python3"
  },
  "language_info": {
   "codemirror_mode": {
    "name": "ipython",
    "version": 3
   },
   "file_extension": ".py",
   "mimetype": "text/x-python",
   "name": "python",
   "nbconvert_exporter": "python",
   "pygments_lexer": "ipython3",
   "version": "3.9.2"
  }
 },
 "nbformat": 4,
 "nbformat_minor": 2
}
